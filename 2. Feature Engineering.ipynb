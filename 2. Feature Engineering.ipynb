{
 "cells": [
  {
   "cell_type": "markdown",
   "metadata": {
    "application/vnd.databricks.v1+cell": {
     "cellMetadata": {},
     "inputWidgets": {},
     "nuid": "266895aa-b704-42b8-a4bf-965a327e5361",
     "showTitle": false,
     "tableResultSettingsMap": {},
     "title": ""
    }
   },
   "source": [
    "### Feature Engineering"
   ]
  },
  {
   "cell_type": "markdown",
   "metadata": {
    "application/vnd.databricks.v1+cell": {
     "cellMetadata": {},
     "inputWidgets": {},
     "nuid": "0f06734b-a63f-4f4e-954c-48e828dc2f45",
     "showTitle": false,
     "tableResultSettingsMap": {},
     "title": ""
    }
   },
   "source": [
    "Our goal is to build simple recommender system using matrix factorization and predictive methods(collaborative & content based filtering). In order to do this, we need to do some feature engineering. \n",
    "We need to create some customer based and some product based features."
   ]
  },
  {
   "cell_type": "code",
   "execution_count": 0,
   "metadata": {
    "application/vnd.databricks.v1+cell": {
     "cellMetadata": {
      "byteLimit": 2048000,
      "rowLimit": 10000
     },
     "inputWidgets": {},
     "nuid": "8795de4a-9c75-48a7-b270-715fd15c2d58",
     "showTitle": false,
     "tableResultSettingsMap": {},
     "title": ""
    }
   },
   "outputs": [],
   "source": [
    "sales_transactions = spark.read.table(\"samples.bakehouse.sales_transactions\")"
   ]
  },
  {
   "cell_type": "markdown",
   "metadata": {
    "application/vnd.databricks.v1+cell": {
     "cellMetadata": {},
     "inputWidgets": {},
     "nuid": "b03954b1-741e-4224-9777-ef34ad370131",
     "showTitle": false,
     "tableResultSettingsMap": {},
     "title": ""
    }
   },
   "source": [
    "We will create a feature store with the following customer based features:\n",
    "\n",
    "- total number of transactions\n",
    "- average transaction value\n",
    "- receny\n",
    "- frequency\n",
    "- monetary value\n",
    "- did they buy during the week?\n",
    "- did they buy during the weekend?\n"
   ]
  },
  {
   "cell_type": "code",
   "execution_count": 0,
   "metadata": {
    "application/vnd.databricks.v1+cell": {
     "cellMetadata": {
      "byteLimit": 2048000,
      "rowLimit": 10000
     },
     "inputWidgets": {},
     "nuid": "87344af1-90f9-4f7d-9ec6-e614d079307f",
     "showTitle": false,
     "tableResultSettingsMap": {},
     "title": ""
    }
   },
   "outputs": [
    {
     "output_type": "execute_result",
     "data": {
      "text/plain": [
       "DataFrame[]"
      ]
     },
     "execution_count": 19,
     "metadata": {},
     "output_type": "execute_result"
    }
   ],
   "source": [
    "# Create a database in the Hive metastore using PySpark\n",
    "spark.sql(\"\"\"\n",
    "    CREATE DATABASE IF NOT EXISTS my_database\n",
    "    COMMENT 'This is my database for storing sales transactions features for my toy project'\n",
    "    LOCATION 'dbfs:/user/hive/warehouse/recommender_system_toy.db'\n",
    "\"\"\")"
   ]
  },
  {
   "cell_type": "code",
   "execution_count": 0,
   "metadata": {
    "application/vnd.databricks.v1+cell": {
     "cellMetadata": {
      "byteLimit": 2048000,
      "rowLimit": 10000
     },
     "inputWidgets": {},
     "nuid": "50a81c66-f7d9-4315-ba31-9e31d3b6f911",
     "showTitle": false,
     "tableResultSettingsMap": {},
     "title": ""
    }
   },
   "outputs": [
    {
     "output_type": "stream",
     "name": "stderr",
     "output_type": "stream",
     "text": [
      "/databricks/python/lib/python3.12/site-packages/databricks/sdk/service/jobs.py:60: SyntaxWarning: invalid escape sequence '\\.'\n  \"\"\"The sequence number of this run attempt for a triggered job run. The initial attempt of a run\n/databricks/python/lib/python3.12/site-packages/databricks/sdk/service/jobs.py:2570: SyntaxWarning: invalid escape sequence '\\.'\n  \"\"\"The sequence number of this run attempt for a triggered job run. The initial attempt of a run\n/databricks/python/lib/python3.12/site-packages/databricks/sdk/service/jobs.py:3431: SyntaxWarning: invalid escape sequence '\\.'\n  \"\"\"The sequence number of this run attempt for a triggered job run. The initial attempt of a run\n2025/01/18 21:45:20 INFO databricks.ml_features._compute_client._compute_client: Created feature table 'hive_metastore.recommender_system_toy.customer_features'.\n{\"ts\": \"2025-01-18 21:45:27,196\", \"level\": \"ERROR\", \"logger\": \"SQLQueryContextLogger\", \"msg\": \"Illegal table name abfss:REDACTED_LOCAL_PART@ucstprdwesteu.dfs.core.windows.net/17a8f892-3592-4cda-a60f-4dd7892dc6fe/tables/74fd7647-46d3-4d0c-b1e8-0dfbe6635248.\", \"context\": {\"errorClass\": \"_LEGACY_ERROR_TEMP_DBR_0016\"}, \"exception\": {\"class\": \"Py4JJavaError\", \"msg\": \"An error occurred while calling o393.sql.\\n: org.apache.spark.sql.catalyst.parser.ParseException: \\nIllegal table name abfss:REDACTED_LOCAL_PART@ucstprdwesteu.dfs.core.windows.net/17a8f892-3592-4cda-a60f-4dd7892dc6fe/tables/74fd7647-46d3-4d0c-b1e8-0dfbe6635248.\\n== SQL (line 1, position 17) ==\\nDESCRIBE DETAIL `abfss:REDACTED_LOCAL_PART@ucstprdwesteu`.`dfs`.`core`.`windows`.`net/17a8f892-3592-4cda-a60f-4dd7892dc6fe/tables/74fd7647-46d3-4d0c-b1e8-0dfbe6635248`\\n                ^^^^^^^^^^^^^^^^^^^^^^^^^^^^^^^^^^^^^^^^^^^^^^^^^^^^^^^^^^^^^^^^^^^^^^^^^^^^^^^^^^^^^^^^^^^^^^^^^^^^^^^^^^^^^^^^^^^^^^^^^^^^^^^^^^^^^^^^^^^^^^^^^^^^^^^\\n\\n\\tat org.apache.spark.sql.execution.SparkSqlAstBuilder.$anonfun$visitTableIdentifier$1(SparkSqlParser.scala:4176)\\n\\tat org.apache.spark.sql.catalyst.util.SparkParserUtils.withOrigin(SparkParserUtils.scala:154)\\n\\tat org.apache.spark.sql.catalyst.util.SparkParserUtils.withOrigin$(SparkParserUtils.scala:144)\\n\\tat org.apache.spark.sql.catalyst.parser.ParserUtils$.withOrigin(ParserUtils.scala:37)\\n\\tat org.apache.spark.sql.execution.SparkSqlAstBuilder.visitTableIdentifier(SparkSqlParser.scala:4170)\\n\\tat org.apache.spark.sql.execution.SparkSqlAstBuilder.$anonfun$visitDescribeDeltaDetail$3(SparkSqlParser.scala:4653)\\n\\tat scala.Option.map(Option.scala:230)\\n\\tat org.apache.spark.sql.execution.SparkSqlAstBuilder.$anonfun$visitDescribeDeltaDetail$1(SparkSqlParser.scala:4653)\\n\\tat org.apache.spark.sql.catalyst.util.SparkParserUtils.withOrigin(SparkParserUtils.scala:154)\\n\\tat org.apache.spark.sql.catalyst.util.SparkParserUtils.withOrigin$(SparkParserUtils.scala:144)\\n\\tat org.apache.spark.sql.catalyst.parser.ParserUtils$.withOrigin(ParserUtils.scala:37)\\n\\tat org.apache.spark.sql.execution.SparkSqlAstBuilder.visitDescribeDeltaDetail(SparkSqlParser.scala:4651)\\n\\tat org.apache.spark.sql.execution.SparkSqlAstBuilder.visitDescribeDeltaDetail(SparkSqlParser.scala:143)\\n\\tat org.apache.spark.sql.catalyst.parser.SqlBaseParser$DescribeDeltaDetailContext.accept(SqlBaseParser.java:3519)\\n\\tat org.apache.spark.sql.catalyst.parser.AstBuilder.visitChildren(AstBuilder.scala:150)\\n\\tat org.apache.spark.sql.catalyst.parser.SqlBaseParserBaseVisitor.visitDatabricksStatementDefault(SqlBaseParserBaseVisitor.java:671)\\n\\tat org.apache.spark.sql.catalyst.parser.SqlBaseParser$DatabricksStatementDefaultContext.accept(SqlBaseParser.java:11080)\\n\\tat org.antlr.v4.runtime.tree.AbstractParseTreeVisitor.visit(AbstractParseTreeVisitor.java:18)\\n\\tat org.apache.spark.sql.catalyst.parser.AstBuilder.$anonfun$visitSingleStatement$3(AstBuilder.scala:467)\\n\\tat scala.Option.map(Option.scala:230)\\n\\tat org.apache.spark.sql.catalyst.parser.AstBuilder.$anonfun$visitSingleStatement$1(AstBuilder.scala:467)\\n\\tat org.apache.spark.sql.catalyst.util.SparkParserUtils.withOrigin(SparkParserUtils.scala:154)\\n\\tat org.apache.spark.sql.catalyst.util.SparkParserUtils.withOrigin$(SparkParserUtils.scala:144)\\n\\tat org.apache.spark.sql.catalyst.parser.ParserUtils$.withOrigin(ParserUtils.scala:37)\\n\\tat org.apache.spark.sql.catalyst.parser.AstBuilder.visitSingleStatement(AstBuilder.scala:468)\\n\\tat org.apache.spark.sql.catalyst.parser.AstBuilder.$anonfun$visitCompoundOrSingleStatement$3(AstBuilder.scala:164)\\n\\tat scala.Option.getOrElse(Option.scala:189)\\n\\tat org.apache.spark.sql.catalyst.parser.AstBuilder.$anonfun$visitCompoundOrSingleStatement$1(AstBuilder.scala:164)\\n\\tat org.apache.spark.sql.catalyst.util.SparkParserUtils.withOrigin(SparkParserUtils.scala:154)\\n\\tat org.apache.spark.sql.catalyst.util.SparkParserUtils.withOrigin$(SparkParserUtils.scala:144)\\n\\tat org.apache.spark.sql.catalyst.parser.ParserUtils$.withOrigin(ParserUtils.scala:37)\\n\\tat org.apache.spark.sql.catalyst.parser.AstBuilder.visitCompoundOrSingleStatement(AstBuilder.scala:163)\\n\\tat org.apache.spark.sql.catalyst.parser.AbstractSqlParser.$anonfun$parsePlan$2(AbstractSqlParser.scala:109)\\n\\tat org.apache.spark.sql.catalyst.parser.AbstractSqlParser.$anonfun$withErrorHandling$1(AbstractSqlParser.scala:122)\\n\\tat org.apache.spark.sql.catalyst.util.SparkParserUtils.withOrigin(SparkParserUtils.scala:154)\\n\\tat org.apache.spark.sql.catalyst.util.SparkParserUtils.withOrigin$(SparkParserUtils.scala:144)\\n\\tat org.apache.spark.sql.catalyst.parser.ParserUtils$.withOrigin(ParserUtils.scala:37)\\n\\tat org.apache.spark.sql.catalyst.parser.AbstractSqlParser.withErrorHandling(AbstractSqlParser.scala:121)\\n\\tat org.apache.spark.sql.catalyst.parser.AbstractSqlParser.$anonfun$parsePlan$1(AbstractSqlParser.scala:109)\\n\\tat org.apache.spark.sql.catalyst.parser.AbstractParser.parse(parsers.scala:96)\\n\\tat org.apache.spark.sql.execution.SparkSqlParser.parse(SparkSqlParser.scala:136)\\n\\tat org.apache.spark.sql.catalyst.parser.AbstractSqlParser.parsePlan(AbstractSqlParser.scala:106)\\n\\tat org.apache.spark.sql.SparkSession.$anonfun$sql$2(SparkSession.scala:947)\\n\\tat com.databricks.spark.util.FrameProfiler$.record(FrameProfiler.scala:94)\\n\\tat org.apache.spark.sql.catalyst.QueryPlanningTracker.measurePhase(QueryPlanningTracker.scala:477)\\n\\tat org.apache.spark.sql.SparkSession.$anonfun$sql$1(SparkSession.scala:946)\\n\\tat org.apache.spark.sql.SparkSession.withActive(SparkSession.scala:1380)\\n\\tat org.apache.spark.sql.SparkSession.sql(SparkSession.scala:945)\\n\\tat org.apache.spark.sql.SparkSession.sql(SparkSession.scala:1004)\\n\\tat jdk.internal.reflect.GeneratedMethodAccessor2518.invoke(Unknown Source)\\n\\tat java.base/jdk.internal.reflect.DelegatingMethodAccessorImpl.invoke(DelegatingMethodAccessorImpl.java:43)\\n\\tat java.base/java.lang.reflect.Method.invoke(Method.java:569)\\n\\tat py4j.reflection.MethodInvoker.invoke(MethodInvoker.java:244)\\n\\tat py4j.reflection.ReflectionEngine.invoke(ReflectionEngine.java:397)\\n\\tat py4j.Gateway.invoke(Gateway.java:306)\\n\\tat py4j.commands.AbstractCommand.invokeMethod(AbstractCommand.java:132)\\n\\tat py4j.commands.CallCommand.execute(CallCommand.java:79)\\n\\tat py4j.ClientServerConnection.waitForCommands(ClientServerConnection.java:199)\\n\\tat py4j.ClientServerConnection.run(ClientServerConnection.java:119)\\n\\tat java.base/java.lang.Thread.run(Thread.java:840)\\n\", \"stacktrace\": [\"Traceback (most recent call last):\", \"  File \\\"/databricks/spark/python/pyspark/errors/exceptions/captured.py\\\", line 263, in deco\", \"    return f(*a, **kw)\", \"           ^^^^^^^^^^^\", \"  File \\\"/databricks/spark/python/lib/py4j-0.10.9.7-src.zip/py4j/protocol.py\\\", line 326, in get_return_value\", \"    raise Py4JJavaError(\", \"py4j.protocol.Py4JJavaError: An error occurred while calling o393.sql.\", \": org.apache.spark.sql.catalyst.parser.ParseException: \", \"Illegal table name abfss:REDACTED_LOCAL_PART@ucstprdwesteu.dfs.core.windows.net/17a8f892-3592-4cda-a60f-4dd7892dc6fe/tables/74fd7647-46d3-4d0c-b1e8-0dfbe6635248.\", \"== SQL (line 1, position 17) ==\", \"DESCRIBE DETAIL `abfss:REDACTED_LOCAL_PART@ucstprdwesteu`.`dfs`.`core`.`windows`.`net/17a8f892-3592-4cda-a60f-4dd7892dc6fe/tables/74fd7647-46d3-4d0c-b1e8-0dfbe6635248`\", \"                ^^^^^^^^^^^^^^^^^^^^^^^^^^^^^^^^^^^^^^^^^^^^^^^^^^^^^^^^^^^^^^^^^^^^^^^^^^^^^^^^^^^^^^^^^^^^^^^^^^^^^^^^^^^^^^^^^^^^^^^^^^^^^^^^^^^^^^^^^^^^^^^^^^^^^^^\", \"\", \"\\tat org.apache.spark.sql.execution.SparkSqlAstBuilder.$anonfun$visitTableIdentifier$1(SparkSqlParser.scala:4176)\", \"\\tat org.apache.spark.sql.catalyst.util.SparkParserUtils.withOrigin(SparkParserUtils.scala:154)\", \"\\tat org.apache.spark.sql.catalyst.util.SparkParserUtils.withOrigin$(SparkParserUtils.scala:144)\", \"\\tat org.apache.spark.sql.catalyst.parser.ParserUtils$.withOrigin(ParserUtils.scala:37)\", \"\\tat org.apache.spark.sql.execution.SparkSqlAstBuilder.visitTableIdentifier(SparkSqlParser.scala:4170)\", \"\\tat org.apache.spark.sql.execution.SparkSqlAstBuilder.$anonfun$visitDescribeDeltaDetail$3(SparkSqlParser.scala:4653)\", \"\\tat scala.Option.map(Option.scala:230)\", \"\\tat org.apache.spark.sql.execution.SparkSqlAstBuilder.$anonfun$visitDescribeDeltaDetail$1(SparkSqlParser.scala:4653)\", \"\\tat org.apache.spark.sql.catalyst.util.SparkParserUtils.withOrigin(SparkParserUtils.scala:154)\", \"\\tat org.apache.spark.sql.catalyst.util.SparkParserUtils.withOrigin$(SparkParserUtils.scala:144)\", \"\\tat org.apache.spark.sql.catalyst.parser.ParserUtils$.withOrigin(ParserUtils.scala:37)\", \"\\tat org.apache.spark.sql.execution.SparkSqlAstBuilder.visitDescribeDeltaDetail(SparkSqlParser.scala:4651)\", \"\\tat org.apache.spark.sql.execution.SparkSqlAstBuilder.visitDescribeDeltaDetail(SparkSqlParser.scala:143)\", \"\\tat org.apache.spark.sql.catalyst.parser.SqlBaseParser$DescribeDeltaDetailContext.accept(SqlBaseParser.java:3519)\", \"\\tat org.apache.spark.sql.catalyst.parser.AstBuilder.visitChildren(AstBuilder.scala:150)\", \"\\tat org.apache.spark.sql.catalyst.parser.SqlBaseParserBaseVisitor.visitDatabricksStatementDefault(SqlBaseParserBaseVisitor.java:671)\", \"\\tat org.apache.spark.sql.catalyst.parser.SqlBaseParser$DatabricksStatementDefaultContext.accept(SqlBaseParser.java:11080)\", \"\\tat org.antlr.v4.runtime.tree.AbstractParseTreeVisitor.visit(AbstractParseTreeVisitor.java:18)\", \"\\tat org.apache.spark.sql.catalyst.parser.AstBuilder.$anonfun$visitSingleStatement$3(AstBuilder.scala:467)\", \"\\tat scala.Option.map(Option.scala:230)\", \"\\tat org.apache.spark.sql.catalyst.parser.AstBuilder.$anonfun$visitSingleStatement$1(AstBuilder.scala:467)\", \"\\tat org.apache.spark.sql.catalyst.util.SparkParserUtils.withOrigin(SparkParserUtils.scala:154)\", \"\\tat org.apache.spark.sql.catalyst.util.SparkParserUtils.withOrigin$(SparkParserUtils.scala:144)\", \"\\tat org.apache.spark.sql.catalyst.parser.ParserUtils$.withOrigin(ParserUtils.scala:37)\", \"\\tat org.apache.spark.sql.catalyst.parser.AstBuilder.visitSingleStatement(AstBuilder.scala:468)\", \"\\tat org.apache.spark.sql.catalyst.parser.AstBuilder.$anonfun$visitCompoundOrSingleStatement$3(AstBuilder.scala:164)\", \"\\tat scala.Option.getOrElse(Option.scala:189)\", \"\\tat org.apache.spark.sql.catalyst.parser.AstBuilder.$anonfun$visitCompoundOrSingleStatement$1(AstBuilder.scala:164)\", \"\\tat org.apache.spark.sql.catalyst.util.SparkParserUtils.withOrigin(SparkParserUtils.scala:154)\", \"\\tat org.apache.spark.sql.catalyst.util.SparkParserUtils.withOrigin$(SparkParserUtils.scala:144)\", \"\\tat org.apache.spark.sql.catalyst.parser.ParserUtils$.withOrigin(ParserUtils.scala:37)\", \"\\tat org.apache.spark.sql.catalyst.parser.AstBuilder.visitCompoundOrSingleStatement(AstBuilder.scala:163)\", \"\\tat org.apache.spark.sql.catalyst.parser.AbstractSqlParser.$anonfun$parsePlan$2(AbstractSqlParser.scala:109)\", \"\\tat org.apache.spark.sql.catalyst.parser.AbstractSqlParser.$anonfun$withErrorHandling$1(AbstractSqlParser.scala:122)\", \"\\tat org.apache.spark.sql.catalyst.util.SparkParserUtils.withOrigin(SparkParserUtils.scala:154)\", \"\\tat org.apache.spark.sql.catalyst.util.SparkParserUtils.withOrigin$(SparkParserUtils.scala:144)\", \"\\tat org.apache.spark.sql.catalyst.parser.ParserUtils$.withOrigin(ParserUtils.scala:37)\", \"\\tat org.apache.spark.sql.catalyst.parser.AbstractSqlParser.withErrorHandling(AbstractSqlParser.scala:121)\", \"\\tat org.apache.spark.sql.catalyst.parser.AbstractSqlParser.$anonfun$parsePlan$1(AbstractSqlParser.scala:109)\", \"\\tat org.apache.spark.sql.catalyst.parser.AbstractParser.parse(parsers.scala:96)\", \"\\tat org.apache.spark.sql.execution.SparkSqlParser.parse(SparkSqlParser.scala:136)\", \"\\tat org.apache.spark.sql.catalyst.parser.AbstractSqlParser.parsePlan(AbstractSqlParser.scala:106)\", \"\\tat org.apache.spark.sql.SparkSession.$anonfun$sql$2(SparkSession.scala:947)\", \"\\tat com.databricks.spark.util.FrameProfiler$.record(FrameProfiler.scala:94)\", \"\\tat org.apache.spark.sql.catalyst.QueryPlanningTracker.measurePhase(QueryPlanningTracker.scala:477)\", \"\\tat org.apache.spark.sql.SparkSession.$anonfun$sql$1(SparkSession.scala:946)\", \"\\tat org.apache.spark.sql.SparkSession.withActive(SparkSession.scala:1380)\", \"\\tat org.apache.spark.sql.SparkSession.sql(SparkSession.scala:945)\", \"\\tat org.apache.spark.sql.SparkSession.sql(SparkSession.scala:1004)\", \"\\tat jdk.internal.reflect.GeneratedMethodAccessor2518.invoke(Unknown Source)\", \"\\tat java.base/jdk.internal.reflect.DelegatingMethodAccessorImpl.invoke(DelegatingMethodAccessorImpl.java:43)\", \"\\tat java.base/java.lang.reflect.Method.invoke(Method.java:569)\", \"\\tat py4j.reflection.MethodInvoker.invoke(MethodInvoker.java:244)\", \"\\tat py4j.reflection.ReflectionEngine.invoke(ReflectionEngine.java:397)\", \"\\tat py4j.Gateway.invoke(Gateway.java:306)\", \"\\tat py4j.commands.AbstractCommand.invokeMethod(AbstractCommand.java:132)\", \"\\tat py4j.commands.CallCommand.execute(CallCommand.java:79)\", \"\\tat py4j.ClientServerConnection.waitForCommands(ClientServerConnection.java:199)\", \"\\tat py4j.ClientServerConnection.run(ClientServerConnection.java:119)\", \"\\tat java.base/java.lang.Thread.run(Thread.java:840)\"]}}\nERROR:SQLQueryContextLogger:Illegal table name abfss:REDACTED_LOCAL_PART@ucstprdwesteu.dfs.core.windows.net/17a8f892-3592-4cda-a60f-4dd7892dc6fe/tables/74fd7647-46d3-4d0c-b1e8-0dfbe6635248.\nTraceback (most recent call last):\n  File \"/databricks/spark/python/pyspark/errors/exceptions/captured.py\", line 263, in deco\n    return f(*a, **kw)\n           ^^^^^^^^^^^\n  File \"/databricks/spark/python/lib/py4j-0.10.9.7-src.zip/py4j/protocol.py\", line 326, in get_return_value\n    raise Py4JJavaError(\npy4j.protocol.Py4JJavaError: An error occurred while calling o393.sql.\n: org.apache.spark.sql.catalyst.parser.ParseException: \nIllegal table name abfss:REDACTED_LOCAL_PART@ucstprdwesteu.dfs.core.windows.net/17a8f892-3592-4cda-a60f-4dd7892dc6fe/tables/74fd7647-46d3-4d0c-b1e8-0dfbe6635248.\n== SQL (line 1, position 17) ==\nDESCRIBE DETAIL `abfss:REDACTED_LOCAL_PART@ucstprdwesteu`.`dfs`.`core`.`windows`.`net/17a8f892-3592-4cda-a60f-4dd7892dc6fe/tables/74fd7647-46d3-4d0c-b1e8-0dfbe6635248`\n                ^^^^^^^^^^^^^^^^^^^^^^^^^^^^^^^^^^^^^^^^^^^^^^^^^^^^^^^^^^^^^^^^^^^^^^^^^^^^^^^^^^^^^^^^^^^^^^^^^^^^^^^^^^^^^^^^^^^^^^^^^^^^^^^^^^^^^^^^^^^^^^^^^^^^^^^\n\n\tat org.apache.spark.sql.execution.SparkSqlAstBuilder.$anonfun$visitTableIdentifier$1(SparkSqlParser.scala:4176)\n\tat org.apache.spark.sql.catalyst.util.SparkParserUtils.withOrigin(SparkParserUtils.scala:154)\n\tat org.apache.spark.sql.catalyst.util.SparkParserUtils.withOrigin$(SparkParserUtils.scala:144)\n\tat org.apache.spark.sql.catalyst.parser.ParserUtils$.withOrigin(ParserUtils.scala:37)\n\tat org.apache.spark.sql.execution.SparkSqlAstBuilder.visitTableIdentifier(SparkSqlParser.scala:4170)\n\tat org.apache.spark.sql.execution.SparkSqlAstBuilder.$anonfun$visitDescribeDeltaDetail$3(SparkSqlParser.scala:4653)\n\tat scala.Option.map(Option.scala:230)\n\tat org.apache.spark.sql.execution.SparkSqlAstBuilder.$anonfun$visitDescribeDeltaDetail$1(SparkSqlParser.scala:4653)\n\tat org.apache.spark.sql.catalyst.util.SparkParserUtils.withOrigin(SparkParserUtils.scala:154)\n\tat org.apache.spark.sql.catalyst.util.SparkParserUtils.withOrigin$(SparkParserUtils.scala:144)\n\tat org.apache.spark.sql.catalyst.parser.ParserUtils$.withOrigin(ParserUtils.scala:37)\n\tat org.apache.spark.sql.execution.SparkSqlAstBuilder.visitDescribeDeltaDetail(SparkSqlParser.scala:4651)\n\tat org.apache.spark.sql.execution.SparkSqlAstBuilder.visitDescribeDeltaDetail(SparkSqlParser.scala:143)\n\tat org.apache.spark.sql.catalyst.parser.SqlBaseParser$DescribeDeltaDetailContext.accept(SqlBaseParser.java:3519)\n\tat org.apache.spark.sql.catalyst.parser.AstBuilder.visitChildren(AstBuilder.scala:150)\n\tat org.apache.spark.sql.catalyst.parser.SqlBaseParserBaseVisitor.visitDatabricksStatementDefault(SqlBaseParserBaseVisitor.java:671)\n\tat org.apache.spark.sql.catalyst.parser.SqlBaseParser$DatabricksStatementDefaultContext.accept(SqlBaseParser.java:11080)\n\tat org.antlr.v4.runtime.tree.AbstractParseTreeVisitor.visit(AbstractParseTreeVisitor.java:18)\n\tat org.apache.spark.sql.catalyst.parser.AstBuilder.$anonfun$visitSingleStatement$3(AstBuilder.scala:467)\n\tat scala.Option.map(Option.scala:230)\n\tat org.apache.spark.sql.catalyst.parser.AstBuilder.$anonfun$visitSingleStatement$1(AstBuilder.scala:467)\n\tat org.apache.spark.sql.catalyst.util.SparkParserUtils.withOrigin(SparkParserUtils.scala:154)\n\tat org.apache.spark.sql.catalyst.util.SparkParserUtils.withOrigin$(SparkParserUtils.scala:144)\n\tat org.apache.spark.sql.catalyst.parser.ParserUtils$.withOrigin(ParserUtils.scala:37)\n\tat org.apache.spark.sql.catalyst.parser.AstBuilder.visitSingleStatement(AstBuilder.scala:468)\n\tat org.apache.spark.sql.catalyst.parser.AstBuilder.$anonfun$visitCompoundOrSingleStatement$3(AstBuilder.scala:164)\n\tat scala.Option.getOrElse(Option.scala:189)\n\tat org.apache.spark.sql.catalyst.parser.AstBuilder.$anonfun$visitCompoundOrSingleStatement$1(AstBuilder.scala:164)\n\tat org.apache.spark.sql.catalyst.util.SparkParserUtils.withOrigin(SparkParserUtils.scala:154)\n\tat org.apache.spark.sql.catalyst.util.SparkParserUtils.withOrigin$(SparkParserUtils.scala:144)\n\tat org.apache.spark.sql.catalyst.parser.ParserUtils$.withOrigin(ParserUtils.scala:37)\n\tat org.apache.spark.sql.catalyst.parser.AstBuilder.visitCompoundOrSingleStatement(AstBuilder.scala:163)\n\tat org.apache.spark.sql.catalyst.parser.AbstractSqlParser.$anonfun$parsePlan$2(AbstractSqlParser.scala:109)\n\tat org.apache.spark.sql.catalyst.parser.AbstractSqlParser.$anonfun$withErrorHandling$1(AbstractSqlParser.scala:122)\n\tat org.apache.spark.sql.catalyst.util.SparkParserUtils.withOrigin(SparkParserUtils.scala:154)\n\tat org.apache.spark.sql.catalyst.util.SparkParserUtils.withOrigin$(SparkParserUtils.scala:144)\n\tat org.apache.spark.sql.catalyst.parser.ParserUtils$.withOrigin(ParserUtils.scala:37)\n\tat org.apache.spark.sql.catalyst.parser.AbstractSqlParser.withErrorHandling(AbstractSqlParser.scala:121)\n\tat org.apache.spark.sql.catalyst.parser.AbstractSqlParser.$anonfun$parsePlan$1(AbstractSqlParser.scala:109)\n\tat org.apache.spark.sql.catalyst.parser.AbstractParser.parse(parsers.scala:96)\n\tat org.apache.spark.sql.execution.SparkSqlParser.parse(SparkSqlParser.scala:136)\n\tat org.apache.spark.sql.catalyst.parser.AbstractSqlParser.parsePlan(AbstractSqlParser.scala:106)\n\tat org.apache.spark.sql.SparkSession.$anonfun$sql$2(SparkSession.scala:947)\n\tat com.databricks.spark.util.FrameProfiler$.record(FrameProfiler.scala:94)\n\tat org.apache.spark.sql.catalyst.QueryPlanningTracker.measurePhase(QueryPlanningTracker.scala:477)\n\tat org.apache.spark.sql.SparkSession.$anonfun$sql$1(SparkSession.scala:946)\n\tat org.apache.spark.sql.SparkSession.withActive(SparkSession.scala:1380)\n\tat org.apache.spark.sql.SparkSession.sql(SparkSession.scala:945)\n\tat org.apache.spark.sql.SparkSession.sql(SparkSession.scala:1004)\n\tat jdk.internal.reflect.GeneratedMethodAccessor2518.invoke(Unknown Source)\n\tat java.base/jdk.internal.reflect.DelegatingMethodAccessorImpl.invoke(DelegatingMethodAccessorImpl.java:43)\n\tat java.base/java.lang.reflect.Method.invoke(Method.java:569)\n\tat py4j.reflection.MethodInvoker.invoke(MethodInvoker.java:244)\n\tat py4j.reflection.ReflectionEngine.invoke(ReflectionEngine.java:397)\n\tat py4j.Gateway.invoke(Gateway.java:306)\n\tat py4j.commands.AbstractCommand.invokeMethod(AbstractCommand.java:132)\n\tat py4j.commands.CallCommand.execute(CallCommand.java:79)\n\tat py4j.ClientServerConnection.waitForCommands(ClientServerConnection.java:199)\n\tat py4j.ClientServerConnection.run(ClientServerConnection.java:119)\n\tat java.base/java.lang.Thread.run(Thread.java:840)\n\n{\"ts\": \"2025-01-18 21:45:27,306\", \"level\": \"ERROR\", \"logger\": \"SQLQueryContextLogger\", \"msg\": \"Illegal table name abfss:REDACTED_LOCAL_PART@ucstprdwesteu.dfs.core.windows.net/17a8f892-3592-4cda-a60f-4dd7892dc6fe/tables/74fd7647-46d3-4d0c-b1e8-0dfbe6635248.\", \"context\": {\"errorClass\": \"_LEGACY_ERROR_TEMP_DBR_0016\"}, \"exception\": {\"class\": \"Py4JJavaError\", \"msg\": \"An error occurred while calling o393.sql.\\n: org.apache.spark.sql.catalyst.parser.ParseException: \\nIllegal table name abfss:REDACTED_LOCAL_PART@ucstprdwesteu.dfs.core.windows.net/17a8f892-3592-4cda-a60f-4dd7892dc6fe/tables/74fd7647-46d3-4d0c-b1e8-0dfbe6635248.\\n== SQL (line 1, position 17) ==\\nDESCRIBE DETAIL `abfss:REDACTED_LOCAL_PART@ucstprdwesteu`.`dfs`.`core`.`windows`.`net/17a8f892-3592-4cda-a60f-4dd7892dc6fe/tables/74fd7647-46d3-4d0c-b1e8-0dfbe6635248`\\n                ^^^^^^^^^^^^^^^^^^^^^^^^^^^^^^^^^^^^^^^^^^^^^^^^^^^^^^^^^^^^^^^^^^^^^^^^^^^^^^^^^^^^^^^^^^^^^^^^^^^^^^^^^^^^^^^^^^^^^^^^^^^^^^^^^^^^^^^^^^^^^^^^^^^^^^^\\n\\n\\tat org.apache.spark.sql.execution.SparkSqlAstBuilder.$anonfun$visitTableIdentifier$1(SparkSqlParser.scala:4176)\\n\\tat org.apache.spark.sql.catalyst.util.SparkParserUtils.withOrigin(SparkParserUtils.scala:154)\\n\\tat org.apache.spark.sql.catalyst.util.SparkParserUtils.withOrigin$(SparkParserUtils.scala:144)\\n\\tat org.apache.spark.sql.catalyst.parser.ParserUtils$.withOrigin(ParserUtils.scala:37)\\n\\tat org.apache.spark.sql.execution.SparkSqlAstBuilder.visitTableIdentifier(SparkSqlParser.scala:4170)\\n\\tat org.apache.spark.sql.execution.SparkSqlAstBuilder.$anonfun$visitDescribeDeltaDetail$3(SparkSqlParser.scala:4653)\\n\\tat scala.Option.map(Option.scala:230)\\n\\tat org.apache.spark.sql.execution.SparkSqlAstBuilder.$anonfun$visitDescribeDeltaDetail$1(SparkSqlParser.scala:4653)\\n\\tat org.apache.spark.sql.catalyst.util.SparkParserUtils.withOrigin(SparkParserUtils.scala:154)\\n\\tat org.apache.spark.sql.catalyst.util.SparkParserUtils.withOrigin$(SparkParserUtils.scala:144)\\n\\tat org.apache.spark.sql.catalyst.parser.ParserUtils$.withOrigin(ParserUtils.scala:37)\\n\\tat org.apache.spark.sql.execution.SparkSqlAstBuilder.visitDescribeDeltaDetail(SparkSqlParser.scala:4651)\\n\\tat org.apache.spark.sql.execution.SparkSqlAstBuilder.visitDescribeDeltaDetail(SparkSqlParser.scala:143)\\n\\tat org.apache.spark.sql.catalyst.parser.SqlBaseParser$DescribeDeltaDetailContext.accept(SqlBaseParser.java:3519)\\n\\tat org.apache.spark.sql.catalyst.parser.AstBuilder.visitChildren(AstBuilder.scala:150)\\n\\tat org.apache.spark.sql.catalyst.parser.SqlBaseParserBaseVisitor.visitDatabricksStatementDefault(SqlBaseParserBaseVisitor.java:671)\\n\\tat org.apache.spark.sql.catalyst.parser.SqlBaseParser$DatabricksStatementDefaultContext.accept(SqlBaseParser.java:11080)\\n\\tat org.antlr.v4.runtime.tree.AbstractParseTreeVisitor.visit(AbstractParseTreeVisitor.java:18)\\n\\tat org.apache.spark.sql.catalyst.parser.AstBuilder.$anonfun$visitSingleStatement$3(AstBuilder.scala:467)\\n\\tat scala.Option.map(Option.scala:230)\\n\\tat org.apache.spark.sql.catalyst.parser.AstBuilder.$anonfun$visitSingleStatement$1(AstBuilder.scala:467)\\n\\tat org.apache.spark.sql.catalyst.util.SparkParserUtils.withOrigin(SparkParserUtils.scala:154)\\n\\tat org.apache.spark.sql.catalyst.util.SparkParserUtils.withOrigin$(SparkParserUtils.scala:144)\\n\\tat org.apache.spark.sql.catalyst.parser.ParserUtils$.withOrigin(ParserUtils.scala:37)\\n\\tat org.apache.spark.sql.catalyst.parser.AstBuilder.visitSingleStatement(AstBuilder.scala:468)\\n\\tat org.apache.spark.sql.catalyst.parser.AstBuilder.$anonfun$visitCompoundOrSingleStatement$3(AstBuilder.scala:164)\\n\\tat scala.Option.getOrElse(Option.scala:189)\\n\\tat org.apache.spark.sql.catalyst.parser.AstBuilder.$anonfun$visitCompoundOrSingleStatement$1(AstBuilder.scala:164)\\n\\tat org.apache.spark.sql.catalyst.util.SparkParserUtils.withOrigin(SparkParserUtils.scala:154)\\n\\tat org.apache.spark.sql.catalyst.util.SparkParserUtils.withOrigin$(SparkParserUtils.scala:144)\\n\\tat org.apache.spark.sql.catalyst.parser.ParserUtils$.withOrigin(ParserUtils.scala:37)\\n\\tat org.apache.spark.sql.catalyst.parser.AstBuilder.visitCompoundOrSingleStatement(AstBuilder.scala:163)\\n\\tat org.apache.spark.sql.catalyst.parser.AbstractSqlParser.$anonfun$parsePlan$2(AbstractSqlParser.scala:109)\\n\\tat org.apache.spark.sql.catalyst.parser.AbstractSqlParser.$anonfun$withErrorHandling$1(AbstractSqlParser.scala:122)\\n\\tat org.apache.spark.sql.catalyst.util.SparkParserUtils.withOrigin(SparkParserUtils.scala:154)\\n\\tat org.apache.spark.sql.catalyst.util.SparkParserUtils.withOrigin$(SparkParserUtils.scala:144)\\n\\tat org.apache.spark.sql.catalyst.parser.ParserUtils$.withOrigin(ParserUtils.scala:37)\\n\\tat org.apache.spark.sql.catalyst.parser.AbstractSqlParser.withErrorHandling(AbstractSqlParser.scala:121)\\n\\tat org.apache.spark.sql.catalyst.parser.AbstractSqlParser.$anonfun$parsePlan$1(AbstractSqlParser.scala:109)\\n\\tat org.apache.spark.sql.catalyst.parser.AbstractParser.parse(parsers.scala:96)\\n\\tat org.apache.spark.sql.execution.SparkSqlParser.parse(SparkSqlParser.scala:136)\\n\\tat org.apache.spark.sql.catalyst.parser.AbstractSqlParser.parsePlan(AbstractSqlParser.scala:106)\\n\\tat org.apache.spark.sql.SparkSession.$anonfun$sql$2(SparkSession.scala:947)\\n\\tat com.databricks.spark.util.FrameProfiler$.record(FrameProfiler.scala:94)\\n\\tat org.apache.spark.sql.catalyst.QueryPlanningTracker.measurePhase(QueryPlanningTracker.scala:477)\\n\\tat org.apache.spark.sql.SparkSession.$anonfun$sql$1(SparkSession.scala:946)\\n\\tat org.apache.spark.sql.SparkSession.withActive(SparkSession.scala:1380)\\n\\tat org.apache.spark.sql.SparkSession.sql(SparkSession.scala:945)\\n\\tat org.apache.spark.sql.SparkSession.sql(SparkSession.scala:1004)\\n\\tat jdk.internal.reflect.GeneratedMethodAccessor2518.invoke(Unknown Source)\\n\\tat java.base/jdk.internal.reflect.DelegatingMethodAccessorImpl.invoke(DelegatingMethodAccessorImpl.java:43)\\n\\tat java.base/java.lang.reflect.Method.invoke(Method.java:569)\\n\\tat py4j.reflection.MethodInvoker.invoke(MethodInvoker.java:244)\\n\\tat py4j.reflection.ReflectionEngine.invoke(ReflectionEngine.java:397)\\n\\tat py4j.Gateway.invoke(Gateway.java:306)\\n\\tat py4j.commands.AbstractCommand.invokeMethod(AbstractCommand.java:132)\\n\\tat py4j.commands.CallCommand.execute(CallCommand.java:79)\\n\\tat py4j.ClientServerConnection.waitForCommands(ClientServerConnection.java:199)\\n\\tat py4j.ClientServerConnection.run(ClientServerConnection.java:119)\\n\\tat java.base/java.lang.Thread.run(Thread.java:840)\\n\", \"stacktrace\": [\"Traceback (most recent call last):\", \"  File \\\"/databricks/spark/python/pyspark/errors/exceptions/captured.py\\\", line 263, in deco\", \"    return f(*a, **kw)\", \"           ^^^^^^^^^^^\", \"  File \\\"/databricks/spark/python/lib/py4j-0.10.9.7-src.zip/py4j/protocol.py\\\", line 326, in get_return_value\", \"    raise Py4JJavaError(\", \"py4j.protocol.Py4JJavaError: An error occurred while calling o393.sql.\", \": org.apache.spark.sql.catalyst.parser.ParseException: \", \"Illegal table name abfss:REDACTED_LOCAL_PART@ucstprdwesteu.dfs.core.windows.net/17a8f892-3592-4cda-a60f-4dd7892dc6fe/tables/74fd7647-46d3-4d0c-b1e8-0dfbe6635248.\", \"== SQL (line 1, position 17) ==\", \"DESCRIBE DETAIL `abfss:REDACTED_LOCAL_PART@ucstprdwesteu`.`dfs`.`core`.`windows`.`net/17a8f892-3592-4cda-a60f-4dd7892dc6fe/tables/74fd7647-46d3-4d0c-b1e8-0dfbe6635248`\", \"                ^^^^^^^^^^^^^^^^^^^^^^^^^^^^^^^^^^^^^^^^^^^^^^^^^^^^^^^^^^^^^^^^^^^^^^^^^^^^^^^^^^^^^^^^^^^^^^^^^^^^^^^^^^^^^^^^^^^^^^^^^^^^^^^^^^^^^^^^^^^^^^^^^^^^^^^\", \"\", \"\\tat org.apache.spark.sql.execution.SparkSqlAstBuilder.$anonfun$visitTableIdentifier$1(SparkSqlParser.scala:4176)\", \"\\tat org.apache.spark.sql.catalyst.util.SparkParserUtils.withOrigin(SparkParserUtils.scala:154)\", \"\\tat org.apache.spark.sql.catalyst.util.SparkParserUtils.withOrigin$(SparkParserUtils.scala:144)\", \"\\tat org.apache.spark.sql.catalyst.parser.ParserUtils$.withOrigin(ParserUtils.scala:37)\", \"\\tat org.apache.spark.sql.execution.SparkSqlAstBuilder.visitTableIdentifier(SparkSqlParser.scala:4170)\", \"\\tat org.apache.spark.sql.execution.SparkSqlAstBuilder.$anonfun$visitDescribeDeltaDetail$3(SparkSqlParser.scala:4653)\", \"\\tat scala.Option.map(Option.scala:230)\", \"\\tat org.apache.spark.sql.execution.SparkSqlAstBuilder.$anonfun$visitDescribeDeltaDetail$1(SparkSqlParser.scala:4653)\", \"\\tat org.apache.spark.sql.catalyst.util.SparkParserUtils.withOrigin(SparkParserUtils.scala:154)\", \"\\tat org.apache.spark.sql.catalyst.util.SparkParserUtils.withOrigin$(SparkParserUtils.scala:144)\", \"\\tat org.apache.spark.sql.catalyst.parser.ParserUtils$.withOrigin(ParserUtils.scala:37)\", \"\\tat org.apache.spark.sql.execution.SparkSqlAstBuilder.visitDescribeDeltaDetail(SparkSqlParser.scala:4651)\", \"\\tat org.apache.spark.sql.execution.SparkSqlAstBuilder.visitDescribeDeltaDetail(SparkSqlParser.scala:143)\", \"\\tat org.apache.spark.sql.catalyst.parser.SqlBaseParser$DescribeDeltaDetailContext.accept(SqlBaseParser.java:3519)\", \"\\tat org.apache.spark.sql.catalyst.parser.AstBuilder.visitChildren(AstBuilder.scala:150)\", \"\\tat org.apache.spark.sql.catalyst.parser.SqlBaseParserBaseVisitor.visitDatabricksStatementDefault(SqlBaseParserBaseVisitor.java:671)\", \"\\tat org.apache.spark.sql.catalyst.parser.SqlBaseParser$DatabricksStatementDefaultContext.accept(SqlBaseParser.java:11080)\", \"\\tat org.antlr.v4.runtime.tree.AbstractParseTreeVisitor.visit(AbstractParseTreeVisitor.java:18)\", \"\\tat org.apache.spark.sql.catalyst.parser.AstBuilder.$anonfun$visitSingleStatement$3(AstBuilder.scala:467)\", \"\\tat scala.Option.map(Option.scala:230)\", \"\\tat org.apache.spark.sql.catalyst.parser.AstBuilder.$anonfun$visitSingleStatement$1(AstBuilder.scala:467)\", \"\\tat org.apache.spark.sql.catalyst.util.SparkParserUtils.withOrigin(SparkParserUtils.scala:154)\", \"\\tat org.apache.spark.sql.catalyst.util.SparkParserUtils.withOrigin$(SparkParserUtils.scala:144)\", \"\\tat org.apache.spark.sql.catalyst.parser.ParserUtils$.withOrigin(ParserUtils.scala:37)\", \"\\tat org.apache.spark.sql.catalyst.parser.AstBuilder.visitSingleStatement(AstBuilder.scala:468)\", \"\\tat org.apache.spark.sql.catalyst.parser.AstBuilder.$anonfun$visitCompoundOrSingleStatement$3(AstBuilder.scala:164)\", \"\\tat scala.Option.getOrElse(Option.scala:189)\", \"\\tat org.apache.spark.sql.catalyst.parser.AstBuilder.$anonfun$visitCompoundOrSingleStatement$1(AstBuilder.scala:164)\", \"\\tat org.apache.spark.sql.catalyst.util.SparkParserUtils.withOrigin(SparkParserUtils.scala:154)\", \"\\tat org.apache.spark.sql.catalyst.util.SparkParserUtils.withOrigin$(SparkParserUtils.scala:144)\", \"\\tat org.apache.spark.sql.catalyst.parser.ParserUtils$.withOrigin(ParserUtils.scala:37)\", \"\\tat org.apache.spark.sql.catalyst.parser.AstBuilder.visitCompoundOrSingleStatement(AstBuilder.scala:163)\", \"\\tat org.apache.spark.sql.catalyst.parser.AbstractSqlParser.$anonfun$parsePlan$2(AbstractSqlParser.scala:109)\", \"\\tat org.apache.spark.sql.catalyst.parser.AbstractSqlParser.$anonfun$withErrorHandling$1(AbstractSqlParser.scala:122)\", \"\\tat org.apache.spark.sql.catalyst.util.SparkParserUtils.withOrigin(SparkParserUtils.scala:154)\", \"\\tat org.apache.spark.sql.catalyst.util.SparkParserUtils.withOrigin$(SparkParserUtils.scala:144)\", \"\\tat org.apache.spark.sql.catalyst.parser.ParserUtils$.withOrigin(ParserUtils.scala:37)\", \"\\tat org.apache.spark.sql.catalyst.parser.AbstractSqlParser.withErrorHandling(AbstractSqlParser.scala:121)\", \"\\tat org.apache.spark.sql.catalyst.parser.AbstractSqlParser.$anonfun$parsePlan$1(AbstractSqlParser.scala:109)\", \"\\tat org.apache.spark.sql.catalyst.parser.AbstractParser.parse(parsers.scala:96)\", \"\\tat org.apache.spark.sql.execution.SparkSqlParser.parse(SparkSqlParser.scala:136)\", \"\\tat org.apache.spark.sql.catalyst.parser.AbstractSqlParser.parsePlan(AbstractSqlParser.scala:106)\", \"\\tat org.apache.spark.sql.SparkSession.$anonfun$sql$2(SparkSession.scala:947)\", \"\\tat com.databricks.spark.util.FrameProfiler$.record(FrameProfiler.scala:94)\", \"\\tat org.apache.spark.sql.catalyst.QueryPlanningTracker.measurePhase(QueryPlanningTracker.scala:477)\", \"\\tat org.apache.spark.sql.SparkSession.$anonfun$sql$1(SparkSession.scala:946)\", \"\\tat org.apache.spark.sql.SparkSession.withActive(SparkSession.scala:1380)\", \"\\tat org.apache.spark.sql.SparkSession.sql(SparkSession.scala:945)\", \"\\tat org.apache.spark.sql.SparkSession.sql(SparkSession.scala:1004)\", \"\\tat jdk.internal.reflect.GeneratedMethodAccessor2518.invoke(Unknown Source)\", \"\\tat java.base/jdk.internal.reflect.DelegatingMethodAccessorImpl.invoke(DelegatingMethodAccessorImpl.java:43)\", \"\\tat java.base/java.lang.reflect.Method.invoke(Method.java:569)\", \"\\tat py4j.reflection.MethodInvoker.invoke(MethodInvoker.java:244)\", \"\\tat py4j.reflection.ReflectionEngine.invoke(ReflectionEngine.java:397)\", \"\\tat py4j.Gateway.invoke(Gateway.java:306)\", \"\\tat py4j.commands.AbstractCommand.invokeMethod(AbstractCommand.java:132)\", \"\\tat py4j.commands.CallCommand.execute(CallCommand.java:79)\", \"\\tat py4j.ClientServerConnection.waitForCommands(ClientServerConnection.java:199)\", \"\\tat py4j.ClientServerConnection.run(ClientServerConnection.java:119)\", \"\\tat java.base/java.lang.Thread.run(Thread.java:840)\"]}}\nERROR:SQLQueryContextLogger:Illegal table name abfss:REDACTED_LOCAL_PART@ucstprdwesteu.dfs.core.windows.net/17a8f892-3592-4cda-a60f-4dd7892dc6fe/tables/74fd7647-46d3-4d0c-b1e8-0dfbe6635248.\nTraceback (most recent call last):\n  File \"/databricks/spark/python/pyspark/errors/exceptions/captured.py\", line 263, in deco\n    return f(*a, **kw)\n           ^^^^^^^^^^^\n  File \"/databricks/spark/python/lib/py4j-0.10.9.7-src.zip/py4j/protocol.py\", line 326, in get_return_value\n    raise Py4JJavaError(\npy4j.protocol.Py4JJavaError: An error occurred while calling o393.sql.\n: org.apache.spark.sql.catalyst.parser.ParseException: \nIllegal table name abfss:REDACTED_LOCAL_PART@ucstprdwesteu.dfs.core.windows.net/17a8f892-3592-4cda-a60f-4dd7892dc6fe/tables/74fd7647-46d3-4d0c-b1e8-0dfbe6635248.\n== SQL (line 1, position 17) ==\nDESCRIBE DETAIL `abfss:REDACTED_LOCAL_PART@ucstprdwesteu`.`dfs`.`core`.`windows`.`net/17a8f892-3592-4cda-a60f-4dd7892dc6fe/tables/74fd7647-46d3-4d0c-b1e8-0dfbe6635248`\n                ^^^^^^^^^^^^^^^^^^^^^^^^^^^^^^^^^^^^^^^^^^^^^^^^^^^^^^^^^^^^^^^^^^^^^^^^^^^^^^^^^^^^^^^^^^^^^^^^^^^^^^^^^^^^^^^^^^^^^^^^^^^^^^^^^^^^^^^^^^^^^^^^^^^^^^^\n\n\tat org.apache.spark.sql.execution.SparkSqlAstBuilder.$anonfun$visitTableIdentifier$1(SparkSqlParser.scala:4176)\n\tat org.apache.spark.sql.catalyst.util.SparkParserUtils.withOrigin(SparkParserUtils.scala:154)\n\tat org.apache.spark.sql.catalyst.util.SparkParserUtils.withOrigin$(SparkParserUtils.scala:144)\n\tat org.apache.spark.sql.catalyst.parser.ParserUtils$.withOrigin(ParserUtils.scala:37)\n\tat org.apache.spark.sql.execution.SparkSqlAstBuilder.visitTableIdentifier(SparkSqlParser.scala:4170)\n\tat org.apache.spark.sql.execution.SparkSqlAstBuilder.$anonfun$visitDescribeDeltaDetail$3(SparkSqlParser.scala:4653)\n\tat scala.Option.map(Option.scala:230)\n\tat org.apache.spark.sql.execution.SparkSqlAstBuilder.$anonfun$visitDescribeDeltaDetail$1(SparkSqlParser.scala:4653)\n\tat org.apache.spark.sql.catalyst.util.SparkParserUtils.withOrigin(SparkParserUtils.scala:154)\n\tat org.apache.spark.sql.catalyst.util.SparkParserUtils.withOrigin$(SparkParserUtils.scala:144)\n\tat org.apache.spark.sql.catalyst.parser.ParserUtils$.withOrigin(ParserUtils.scala:37)\n\tat org.apache.spark.sql.execution.SparkSqlAstBuilder.visitDescribeDeltaDetail(SparkSqlParser.scala:4651)\n\tat org.apache.spark.sql.execution.SparkSqlAstBuilder.visitDescribeDeltaDetail(SparkSqlParser.scala:143)\n\tat org.apache.spark.sql.catalyst.parser.SqlBaseParser$DescribeDeltaDetailContext.accept(SqlBaseParser.java:3519)\n\tat org.apache.spark.sql.catalyst.parser.AstBuilder.visitChildren(AstBuilder.scala:150)\n\tat org.apache.spark.sql.catalyst.parser.SqlBaseParserBaseVisitor.visitDatabricksStatementDefault(SqlBaseParserBaseVisitor.java:671)\n\tat org.apache.spark.sql.catalyst.parser.SqlBaseParser$DatabricksStatementDefaultContext.accept(SqlBaseParser.java:11080)\n\tat org.antlr.v4.runtime.tree.AbstractParseTreeVisitor.visit(AbstractParseTreeVisitor.java:18)\n\tat org.apache.spark.sql.catalyst.parser.AstBuilder.$anonfun$visitSingleStatement$3(AstBuilder.scala:467)\n\tat scala.Option.map(Option.scala:230)\n\tat org.apache.spark.sql.catalyst.parser.AstBuilder.$anonfun$visitSingleStatement$1(AstBuilder.scala:467)\n\tat org.apache.spark.sql.catalyst.util.SparkParserUtils.withOrigin(SparkParserUtils.scala:154)\n\tat org.apache.spark.sql.catalyst.util.SparkParserUtils.withOrigin$(SparkParserUtils.scala:144)\n\tat org.apache.spark.sql.catalyst.parser.ParserUtils$.withOrigin(ParserUtils.scala:37)\n\tat org.apache.spark.sql.catalyst.parser.AstBuilder.visitSingleStatement(AstBuilder.scala:468)\n\tat org.apache.spark.sql.catalyst.parser.AstBuilder.$anonfun$visitCompoundOrSingleStatement$3(AstBuilder.scala:164)\n\tat scala.Option.getOrElse(Option.scala:189)\n\tat org.apache.spark.sql.catalyst.parser.AstBuilder.$anonfun$visitCompoundOrSingleStatement$1(AstBuilder.scala:164)\n\tat org.apache.spark.sql.catalyst.util.SparkParserUtils.withOrigin(SparkParserUtils.scala:154)\n\tat org.apache.spark.sql.catalyst.util.SparkParserUtils.withOrigin$(SparkParserUtils.scala:144)\n\tat org.apache.spark.sql.catalyst.parser.ParserUtils$.withOrigin(ParserUtils.scala:37)\n\tat org.apache.spark.sql.catalyst.parser.AstBuilder.visitCompoundOrSingleStatement(AstBuilder.scala:163)\n\tat org.apache.spark.sql.catalyst.parser.AbstractSqlParser.$anonfun$parsePlan$2(AbstractSqlParser.scala:109)\n\tat org.apache.spark.sql.catalyst.parser.AbstractSqlParser.$anonfun$withErrorHandling$1(AbstractSqlParser.scala:122)\n\tat org.apache.spark.sql.catalyst.util.SparkParserUtils.withOrigin(SparkParserUtils.scala:154)\n\tat org.apache.spark.sql.catalyst.util.SparkParserUtils.withOrigin$(SparkParserUtils.scala:144)\n\tat org.apache.spark.sql.catalyst.parser.ParserUtils$.withOrigin(ParserUtils.scala:37)\n\tat org.apache.spark.sql.catalyst.parser.AbstractSqlParser.withErrorHandling(AbstractSqlParser.scala:121)\n\tat org.apache.spark.sql.catalyst.parser.AbstractSqlParser.$anonfun$parsePlan$1(AbstractSqlParser.scala:109)\n\tat org.apache.spark.sql.catalyst.parser.AbstractParser.parse(parsers.scala:96)\n\tat org.apache.spark.sql.execution.SparkSqlParser.parse(SparkSqlParser.scala:136)\n\tat org.apache.spark.sql.catalyst.parser.AbstractSqlParser.parsePlan(AbstractSqlParser.scala:106)\n\tat org.apache.spark.sql.SparkSession.$anonfun$sql$2(SparkSession.scala:947)\n\tat com.databricks.spark.util.FrameProfiler$.record(FrameProfiler.scala:94)\n\tat org.apache.spark.sql.catalyst.QueryPlanningTracker.measurePhase(QueryPlanningTracker.scala:477)\n\tat org.apache.spark.sql.SparkSession.$anonfun$sql$1(SparkSession.scala:946)\n\tat org.apache.spark.sql.SparkSession.withActive(SparkSession.scala:1380)\n\tat org.apache.spark.sql.SparkSession.sql(SparkSession.scala:945)\n\tat org.apache.spark.sql.SparkSession.sql(SparkSession.scala:1004)\n\tat jdk.internal.reflect.GeneratedMethodAccessor2518.invoke(Unknown Source)\n\tat java.base/jdk.internal.reflect.DelegatingMethodAccessorImpl.invoke(DelegatingMethodAccessorImpl.java:43)\n\tat java.base/java.lang.reflect.Method.invoke(Method.java:569)\n\tat py4j.reflection.MethodInvoker.invoke(MethodInvoker.java:244)\n\tat py4j.reflection.ReflectionEngine.invoke(ReflectionEngine.java:397)\n\tat py4j.Gateway.invoke(Gateway.java:306)\n\tat py4j.commands.AbstractCommand.invokeMethod(AbstractCommand.java:132)\n\tat py4j.commands.CallCommand.execute(CallCommand.java:79)\n\tat py4j.ClientServerConnection.waitForCommands(ClientServerConnection.java:199)\n\tat py4j.ClientServerConnection.run(ClientServerConnection.java:119)\n\tat java.base/java.lang.Thread.run(Thread.java:840)\n\n"
     ]
    },
    {
     "output_type": "display_data",
     "data": {
      "text/html": [
       "<style scoped>\n",
       "  .table-result-container {\n",
       "    max-height: 300px;\n",
       "    overflow: auto;\n",
       "  }\n",
       "  table, th, td {\n",
       "    border: 1px solid black;\n",
       "    border-collapse: collapse;\n",
       "  }\n",
       "  th, td {\n",
       "    padding: 5px;\n",
       "  }\n",
       "  th {\n",
       "    text-align: left;\n",
       "  }\n",
       "</style><div class='table-result-container'><table class='table-result'><thead style='background-color: white'><tr><th>customerID</th><th>total_transactions</th></tr></thead><tbody><tr><td>1000061</td><td>16</td></tr><tr><td>1000179</td><td>11</td></tr><tr><td>1000070</td><td>12</td></tr><tr><td>1000012</td><td>9</td></tr><tr><td>1000073</td><td>9</td></tr><tr><td>1000258</td><td>7</td></tr><tr><td>1000272</td><td>8</td></tr><tr><td>1000178</td><td>12</td></tr><tr><td>1000175</td><td>8</td></tr><tr><td>1000119</td><td>7</td></tr><tr><td>1000135</td><td>9</td></tr><tr><td>1000186</td><td>15</td></tr><tr><td>1000101</td><td>10</td></tr><tr><td>1000057</td><td>13</td></tr><tr><td>1000005</td><td>21</td></tr><tr><td>1000031</td><td>8</td></tr><tr><td>1000133</td><td>10</td></tr><tr><td>1000022</td><td>18</td></tr><tr><td>1000158</td><td>13</td></tr><tr><td>1000082</td><td>14</td></tr><tr><td>1000104</td><td>10</td></tr><tr><td>1000025</td><td>11</td></tr><tr><td>1000139</td><td>9</td></tr><tr><td>1000160</td><td>13</td></tr><tr><td>1000052</td><td>16</td></tr><tr><td>1000116</td><td>8</td></tr><tr><td>1000030</td><td>16</td></tr><tr><td>1000297</td><td>10</td></tr><tr><td>1000287</td><td>12</td></tr><tr><td>1000102</td><td>10</td></tr><tr><td>1000207</td><td>10</td></tr><tr><td>1000251</td><td>11</td></tr><tr><td>1000132</td><td>13</td></tr><tr><td>1000195</td><td>11</td></tr><tr><td>1000109</td><td>15</td></tr><tr><td>1000214</td><td>10</td></tr><tr><td>1000036</td><td>6</td></tr><tr><td>1000080</td><td>12</td></tr><tr><td>1000266</td><td>11</td></tr><tr><td>1000247</td><td>16</td></tr><tr><td>1000182</td><td>11</td></tr><tr><td>1000068</td><td>9</td></tr><tr><td>1000077</td><td>8</td></tr><tr><td>1000079</td><td>13</td></tr><tr><td>1000166</td><td>12</td></tr><tr><td>1000076</td><td>13</td></tr><tr><td>1000041</td><td>8</td></tr><tr><td>1000121</td><td>14</td></tr><tr><td>1000045</td><td>9</td></tr><tr><td>1000285</td><td>10</td></tr><tr><td>1000205</td><td>17</td></tr><tr><td>1000124</td><td>6</td></tr><tr><td>1000259</td><td>6</td></tr><tr><td>1000027</td><td>8</td></tr><tr><td>1000245</td><td>8</td></tr><tr><td>1000069</td><td>10</td></tr><tr><td>1000154</td><td>11</td></tr><tr><td>1000021</td><td>18</td></tr><tr><td>1000159</td><td>13</td></tr><tr><td>1000147</td><td>10</td></tr><tr><td>1000120</td><td>12</td></tr><tr><td>1000056</td><td>12</td></tr><tr><td>1000024</td><td>9</td></tr><tr><td>1000172</td><td>13</td></tr><tr><td>1000295</td><td>14</td></tr><tr><td>1000050</td><td>7</td></tr><tr><td>1000114</td><td>12</td></tr><tr><td>1000131</td><td>13</td></tr><tr><td>1000092</td><td>10</td></tr><tr><td>1000265</td><td>13</td></tr><tr><td>1000184</td><td>10</td></tr><tr><td>1000230</td><td>15</td></tr><tr><td>1000010</td><td>16</td></tr><tr><td>1000123</td><td>10</td></tr><tr><td>1000046</td><td>8</td></tr><tr><td>1000296</td><td>15</td></tr><tr><td>1000018</td><td>11</td></tr><tr><td>1000035</td><td>11</td></tr><tr><td>1000001</td><td>8</td></tr><tr><td>1000086</td><td>12</td></tr><tr><td>1000085</td><td>9</td></tr><tr><td>1000075</td><td>13</td></tr><tr><td>1000049</td><td>13</td></tr><tr><td>1000192</td><td>8</td></tr><tr><td>1000043</td><td>8</td></tr><tr><td>1000048</td><td>3</td></tr><tr><td>1000221</td><td>10</td></tr><tr><td>1000246</td><td>11</td></tr><tr><td>1000095</td><td>11</td></tr><tr><td>1000103</td><td>6</td></tr><tr><td>1000054</td><td>10</td></tr><tr><td>1000218</td><td>15</td></tr><tr><td>1000142</td><td>12</td></tr><tr><td>1000257</td><td>8</td></tr><tr><td>1000170</td><td>14</td></tr><tr><td>1000249</td><td>13</td></tr><tr><td>1000201</td><td>11</td></tr><tr><td>1000241</td><td>14</td></tr><tr><td>1000226</td><td>8</td></tr><tr><td>1000270</td><td>9</td></tr><tr><td>1000261</td><td>10</td></tr><tr><td>1000118</td><td>15</td></tr><tr><td>1000060</td><td>7</td></tr><tr><td>1000278</td><td>7</td></tr><tr><td>1000280</td><td>11</td></tr><tr><td>1000216</td><td>14</td></tr><tr><td>1000210</td><td>12</td></tr><tr><td>1000039</td><td>12</td></tr><tr><td>1000181</td><td>12</td></tr><tr><td>1000173</td><td>16</td></tr><tr><td>1000229</td><td>16</td></tr><tr><td>1000106</td><td>14</td></tr><tr><td>1000140</td><td>10</td></tr><tr><td>1000081</td><td>7</td></tr><tr><td>1000088</td><td>9</td></tr><tr><td>1000269</td><td>11</td></tr><tr><td>1000003</td><td>13</td></tr><tr><td>1000138</td><td>7</td></tr><tr><td>1000262</td><td>16</td></tr><tr><td>1000176</td><td>8</td></tr><tr><td>1000040</td><td>13</td></tr><tr><td>1000283</td><td>8</td></tr><tr><td>1000281</td><td>4</td></tr><tr><td>1000062</td><td>12</td></tr><tr><td>1000038</td><td>9</td></tr><tr><td>1000000</td><td>9</td></tr><tr><td>1000090</td><td>15</td></tr><tr><td>1000240</td><td>8</td></tr><tr><td>1000107</td><td>9</td></tr><tr><td>1000234</td><td>12</td></tr><tr><td>1000194</td><td>11</td></tr><tr><td>1000161</td><td>10</td></tr><tr><td>1000277</td><td>12</td></tr><tr><td>1000153</td><td>9</td></tr><tr><td>1000037</td><td>7</td></tr><tr><td>1000067</td><td>12</td></tr><tr><td>1000220</td><td>10</td></tr><tr><td>1000180</td><td>5</td></tr><tr><td>1000254</td><td>10</td></tr><tr><td>1000276</td><td>12</td></tr><tr><td>1000152</td><td>8</td></tr><tr><td>1000188</td><td>10</td></tr><tr><td>1000033</td><td>13</td></tr><tr><td>1000127</td><td>13</td></tr><tr><td>1000289</td><td>7</td></tr><tr><td>1000223</td><td>11</td></tr><tr><td>1000059</td><td>6</td></tr><tr><td>1000017</td><td>12</td></tr><tr><td>1000239</td><td>17</td></tr><tr><td>1000146</td><td>7</td></tr><tr><td>1000002</td><td>17</td></tr><tr><td>1000115</td><td>10</td></tr><tr><td>1000168</td><td>8</td></tr><tr><td>1000113</td><td>11</td></tr><tr><td>1000187</td><td>12</td></tr><tr><td>1000292</td><td>9</td></tr><tr><td>1000288</td><td>18</td></tr><tr><td>1000190</td><td>11</td></tr><tr><td>1000189</td><td>16</td></tr><tr><td>1000225</td><td>11</td></tr><tr><td>1000093</td><td>7</td></tr><tr><td>1000006</td><td>18</td></tr><tr><td>1000117</td><td>13</td></tr><tr><td>1000125</td><td>10</td></tr><tr><td>1000202</td><td>12</td></tr><tr><td>1000143</td><td>9</td></tr><tr><td>1000145</td><td>9</td></tr><tr><td>1000244</td><td>7</td></tr><tr><td>1000271</td><td>9</td></tr><tr><td>1000260</td><td>9</td></tr><tr><td>1000148</td><td>10</td></tr><tr><td>1000243</td><td>9</td></tr><tr><td>1000089</td><td>9</td></tr><tr><td>1000255</td><td>11</td></tr><tr><td>1000047</td><td>5</td></tr><tr><td>1000071</td><td>9</td></tr><tr><td>1000165</td><td>8</td></tr><tr><td>1000298</td><td>12</td></tr><tr><td>1000051</td><td>8</td></tr><tr><td>1000208</td><td>14</td></tr><tr><td>1000034</td><td>10</td></tr><tr><td>1000206</td><td>13</td></tr><tr><td>1000267</td><td>7</td></tr><tr><td>1000044</td><td>8</td></tr><tr><td>1000203</td><td>16</td></tr><tr><td>1000028</td><td>9</td></tr><tr><td>1000019</td><td>19</td></tr><tr><td>1000130</td><td>11</td></tr><tr><td>1000293</td><td>12</td></tr><tr><td>1000151</td><td>13</td></tr><tr><td>1000083</td><td>15</td></tr><tr><td>1000268</td><td>10</td></tr><tr><td>1000007</td><td>13</td></tr><tr><td>1000233</td><td>11</td></tr><tr><td>1000177</td><td>12</td></tr><tr><td>1000232</td><td>11</td></tr><tr><td>1000015</td><td>12</td></tr><tr><td>1000290</td><td>14</td></tr><tr><td>1000250</td><td>10</td></tr><tr><td>1000058</td><td>10</td></tr><tr><td>1000183</td><td>10</td></tr><tr><td>1000228</td><td>14</td></tr><tr><td>1000084</td><td>14</td></tr><tr><td>1000122</td><td>7</td></tr><tr><td>1000191</td><td>14</td></tr><tr><td>1000078</td><td>9</td></tr><tr><td>1000091</td><td>15</td></tr><tr><td>1000263</td><td>14</td></tr><tr><td>1000097</td><td>13</td></tr><tr><td>1000275</td><td>19</td></tr><tr><td>1000026</td><td>10</td></tr><tr><td>1000174</td><td>8</td></tr><tr><td>1000105</td><td>11</td></tr><tr><td>1000273</td><td>11</td></tr><tr><td>1000013</td><td>11</td></tr><tr><td>1000141</td><td>12</td></tr><tr><td>1000055</td><td>14</td></tr><tr><td>1000274</td><td>9</td></tr><tr><td>1000064</td><td>12</td></tr><tr><td>1000200</td><td>10</td></tr><tr><td>1000149</td><td>12</td></tr><tr><td>1000063</td><td>7</td></tr><tr><td>1000023</td><td>14</td></tr><tr><td>1000042</td><td>8</td></tr><tr><td>1000196</td><td>10</td></tr><tr><td>1000163</td><td>13</td></tr><tr><td>1000167</td><td>12</td></tr><tr><td>1000185</td><td>7</td></tr><tr><td>1000215</td><td>14</td></tr><tr><td>1000286</td><td>7</td></tr><tr><td>1000164</td><td>5</td></tr><tr><td>1000279</td><td>10</td></tr><tr><td>1000137</td><td>16</td></tr><tr><td>1000256</td><td>6</td></tr><tr><td>1000171</td><td>11</td></tr><tr><td>1000134</td><td>12</td></tr><tr><td>1000198</td><td>8</td></tr><tr><td>1000128</td><td>17</td></tr><tr><td>1000217</td><td>10</td></tr><tr><td>1000156</td><td>17</td></tr><tr><td>1000219</td><td>10</td></tr><tr><td>1000065</td><td>16</td></tr><tr><td>1000248</td><td>13</td></tr><tr><td>1000222</td><td>8</td></tr><tr><td>1000020</td><td>13</td></tr><tr><td>1000126</td><td>9</td></tr><tr><td>1000212</td><td>11</td></tr><tr><td>1000253</td><td>15</td></tr><tr><td>1000096</td><td>3</td></tr><tr><td>1000199</td><td>11</td></tr><tr><td>1000009</td><td>9</td></tr><tr><td>1000112</td><td>20</td></tr><tr><td>1000014</td><td>13</td></tr><tr><td>1000213</td><td>19</td></tr><tr><td>1000294</td><td>10</td></tr><tr><td>1000238</td><td>9</td></tr><tr><td>1000211</td><td>9</td></tr><tr><td>1000197</td><td>8</td></tr><tr><td>1000299</td><td>5</td></tr><tr><td>1000291</td><td>14</td></tr><tr><td>1000029</td><td>22</td></tr><tr><td>1000284</td><td>10</td></tr><tr><td>1000094</td><td>15</td></tr><tr><td>1000074</td><td>16</td></tr><tr><td>1000136</td><td>12</td></tr><tr><td>1000129</td><td>8</td></tr><tr><td>1000169</td><td>12</td></tr><tr><td>1000193</td><td>14</td></tr><tr><td>1000072</td><td>10</td></tr><tr><td>1000004</td><td>17</td></tr><tr><td>1000111</td><td>9</td></tr><tr><td>1000008</td><td>10</td></tr><tr><td>1000209</td><td>12</td></tr><tr><td>1000252</td><td>10</td></tr><tr><td>1000162</td><td>13</td></tr><tr><td>1000157</td><td>11</td></tr><tr><td>1000053</td><td>14</td></tr><tr><td>1000264</td><td>11</td></tr><tr><td>1000282</td><td>15</td></tr><tr><td>1000100</td><td>11</td></tr><tr><td>1000144</td><td>8</td></tr><tr><td>1000098</td><td>12</td></tr><tr><td>1000110</td><td>7</td></tr><tr><td>1000087</td><td>4</td></tr><tr><td>1000108</td><td>15</td></tr><tr><td>1000150</td><td>9</td></tr><tr><td>1000066</td><td>16</td></tr><tr><td>1000011</td><td>6</td></tr><tr><td>1000236</td><td>10</td></tr><tr><td>1000231</td><td>12</td></tr><tr><td>1000235</td><td>5</td></tr><tr><td>1000032</td><td>12</td></tr><tr><td>1000099</td><td>14</td></tr><tr><td>1000224</td><td>12</td></tr><tr><td>1000155</td><td>13</td></tr><tr><td>1000237</td><td>10</td></tr><tr><td>1000016</td><td>13</td></tr><tr><td>1000227</td><td>12</td></tr><tr><td>1000242</td><td>11</td></tr><tr><td>1000204</td><td>6</td></tr></tbody></table></div>"
      ]
     },
     "metadata": {
      "application/vnd.databricks.v1+output": {
       "addedWidgets": {},
       "aggData": [],
       "aggError": "",
       "aggOverflow": false,
       "aggSchema": [],
       "aggSeriesLimitReached": false,
       "aggType": "",
       "arguments": {},
       "columnCustomDisplayInfos": {},
       "data": [
        [
         1000061,
         16
        ],
        [
         1000179,
         11
        ],
        [
         1000070,
         12
        ],
        [
         1000012,
         9
        ],
        [
         1000073,
         9
        ],
        [
         1000258,
         7
        ],
        [
         1000272,
         8
        ],
        [
         1000178,
         12
        ],
        [
         1000175,
         8
        ],
        [
         1000119,
         7
        ],
        [
         1000135,
         9
        ],
        [
         1000186,
         15
        ],
        [
         1000101,
         10
        ],
        [
         1000057,
         13
        ],
        [
         1000005,
         21
        ],
        [
         1000031,
         8
        ],
        [
         1000133,
         10
        ],
        [
         1000022,
         18
        ],
        [
         1000158,
         13
        ],
        [
         1000082,
         14
        ],
        [
         1000104,
         10
        ],
        [
         1000025,
         11
        ],
        [
         1000139,
         9
        ],
        [
         1000160,
         13
        ],
        [
         1000052,
         16
        ],
        [
         1000116,
         8
        ],
        [
         1000030,
         16
        ],
        [
         1000297,
         10
        ],
        [
         1000287,
         12
        ],
        [
         1000102,
         10
        ],
        [
         1000207,
         10
        ],
        [
         1000251,
         11
        ],
        [
         1000132,
         13
        ],
        [
         1000195,
         11
        ],
        [
         1000109,
         15
        ],
        [
         1000214,
         10
        ],
        [
         1000036,
         6
        ],
        [
         1000080,
         12
        ],
        [
         1000266,
         11
        ],
        [
         1000247,
         16
        ],
        [
         1000182,
         11
        ],
        [
         1000068,
         9
        ],
        [
         1000077,
         8
        ],
        [
         1000079,
         13
        ],
        [
         1000166,
         12
        ],
        [
         1000076,
         13
        ],
        [
         1000041,
         8
        ],
        [
         1000121,
         14
        ],
        [
         1000045,
         9
        ],
        [
         1000285,
         10
        ],
        [
         1000205,
         17
        ],
        [
         1000124,
         6
        ],
        [
         1000259,
         6
        ],
        [
         1000027,
         8
        ],
        [
         1000245,
         8
        ],
        [
         1000069,
         10
        ],
        [
         1000154,
         11
        ],
        [
         1000021,
         18
        ],
        [
         1000159,
         13
        ],
        [
         1000147,
         10
        ],
        [
         1000120,
         12
        ],
        [
         1000056,
         12
        ],
        [
         1000024,
         9
        ],
        [
         1000172,
         13
        ],
        [
         1000295,
         14
        ],
        [
         1000050,
         7
        ],
        [
         1000114,
         12
        ],
        [
         1000131,
         13
        ],
        [
         1000092,
         10
        ],
        [
         1000265,
         13
        ],
        [
         1000184,
         10
        ],
        [
         1000230,
         15
        ],
        [
         1000010,
         16
        ],
        [
         1000123,
         10
        ],
        [
         1000046,
         8
        ],
        [
         1000296,
         15
        ],
        [
         1000018,
         11
        ],
        [
         1000035,
         11
        ],
        [
         1000001,
         8
        ],
        [
         1000086,
         12
        ],
        [
         1000085,
         9
        ],
        [
         1000075,
         13
        ],
        [
         1000049,
         13
        ],
        [
         1000192,
         8
        ],
        [
         1000043,
         8
        ],
        [
         1000048,
         3
        ],
        [
         1000221,
         10
        ],
        [
         1000246,
         11
        ],
        [
         1000095,
         11
        ],
        [
         1000103,
         6
        ],
        [
         1000054,
         10
        ],
        [
         1000218,
         15
        ],
        [
         1000142,
         12
        ],
        [
         1000257,
         8
        ],
        [
         1000170,
         14
        ],
        [
         1000249,
         13
        ],
        [
         1000201,
         11
        ],
        [
         1000241,
         14
        ],
        [
         1000226,
         8
        ],
        [
         1000270,
         9
        ],
        [
         1000261,
         10
        ],
        [
         1000118,
         15
        ],
        [
         1000060,
         7
        ],
        [
         1000278,
         7
        ],
        [
         1000280,
         11
        ],
        [
         1000216,
         14
        ],
        [
         1000210,
         12
        ],
        [
         1000039,
         12
        ],
        [
         1000181,
         12
        ],
        [
         1000173,
         16
        ],
        [
         1000229,
         16
        ],
        [
         1000106,
         14
        ],
        [
         1000140,
         10
        ],
        [
         1000081,
         7
        ],
        [
         1000088,
         9
        ],
        [
         1000269,
         11
        ],
        [
         1000003,
         13
        ],
        [
         1000138,
         7
        ],
        [
         1000262,
         16
        ],
        [
         1000176,
         8
        ],
        [
         1000040,
         13
        ],
        [
         1000283,
         8
        ],
        [
         1000281,
         4
        ],
        [
         1000062,
         12
        ],
        [
         1000038,
         9
        ],
        [
         1000000,
         9
        ],
        [
         1000090,
         15
        ],
        [
         1000240,
         8
        ],
        [
         1000107,
         9
        ],
        [
         1000234,
         12
        ],
        [
         1000194,
         11
        ],
        [
         1000161,
         10
        ],
        [
         1000277,
         12
        ],
        [
         1000153,
         9
        ],
        [
         1000037,
         7
        ],
        [
         1000067,
         12
        ],
        [
         1000220,
         10
        ],
        [
         1000180,
         5
        ],
        [
         1000254,
         10
        ],
        [
         1000276,
         12
        ],
        [
         1000152,
         8
        ],
        [
         1000188,
         10
        ],
        [
         1000033,
         13
        ],
        [
         1000127,
         13
        ],
        [
         1000289,
         7
        ],
        [
         1000223,
         11
        ],
        [
         1000059,
         6
        ],
        [
         1000017,
         12
        ],
        [
         1000239,
         17
        ],
        [
         1000146,
         7
        ],
        [
         1000002,
         17
        ],
        [
         1000115,
         10
        ],
        [
         1000168,
         8
        ],
        [
         1000113,
         11
        ],
        [
         1000187,
         12
        ],
        [
         1000292,
         9
        ],
        [
         1000288,
         18
        ],
        [
         1000190,
         11
        ],
        [
         1000189,
         16
        ],
        [
         1000225,
         11
        ],
        [
         1000093,
         7
        ],
        [
         1000006,
         18
        ],
        [
         1000117,
         13
        ],
        [
         1000125,
         10
        ],
        [
         1000202,
         12
        ],
        [
         1000143,
         9
        ],
        [
         1000145,
         9
        ],
        [
         1000244,
         7
        ],
        [
         1000271,
         9
        ],
        [
         1000260,
         9
        ],
        [
         1000148,
         10
        ],
        [
         1000243,
         9
        ],
        [
         1000089,
         9
        ],
        [
         1000255,
         11
        ],
        [
         1000047,
         5
        ],
        [
         1000071,
         9
        ],
        [
         1000165,
         8
        ],
        [
         1000298,
         12
        ],
        [
         1000051,
         8
        ],
        [
         1000208,
         14
        ],
        [
         1000034,
         10
        ],
        [
         1000206,
         13
        ],
        [
         1000267,
         7
        ],
        [
         1000044,
         8
        ],
        [
         1000203,
         16
        ],
        [
         1000028,
         9
        ],
        [
         1000019,
         19
        ],
        [
         1000130,
         11
        ],
        [
         1000293,
         12
        ],
        [
         1000151,
         13
        ],
        [
         1000083,
         15
        ],
        [
         1000268,
         10
        ],
        [
         1000007,
         13
        ],
        [
         1000233,
         11
        ],
        [
         1000177,
         12
        ],
        [
         1000232,
         11
        ],
        [
         1000015,
         12
        ],
        [
         1000290,
         14
        ],
        [
         1000250,
         10
        ],
        [
         1000058,
         10
        ],
        [
         1000183,
         10
        ],
        [
         1000228,
         14
        ],
        [
         1000084,
         14
        ],
        [
         1000122,
         7
        ],
        [
         1000191,
         14
        ],
        [
         1000078,
         9
        ],
        [
         1000091,
         15
        ],
        [
         1000263,
         14
        ],
        [
         1000097,
         13
        ],
        [
         1000275,
         19
        ],
        [
         1000026,
         10
        ],
        [
         1000174,
         8
        ],
        [
         1000105,
         11
        ],
        [
         1000273,
         11
        ],
        [
         1000013,
         11
        ],
        [
         1000141,
         12
        ],
        [
         1000055,
         14
        ],
        [
         1000274,
         9
        ],
        [
         1000064,
         12
        ],
        [
         1000200,
         10
        ],
        [
         1000149,
         12
        ],
        [
         1000063,
         7
        ],
        [
         1000023,
         14
        ],
        [
         1000042,
         8
        ],
        [
         1000196,
         10
        ],
        [
         1000163,
         13
        ],
        [
         1000167,
         12
        ],
        [
         1000185,
         7
        ],
        [
         1000215,
         14
        ],
        [
         1000286,
         7
        ],
        [
         1000164,
         5
        ],
        [
         1000279,
         10
        ],
        [
         1000137,
         16
        ],
        [
         1000256,
         6
        ],
        [
         1000171,
         11
        ],
        [
         1000134,
         12
        ],
        [
         1000198,
         8
        ],
        [
         1000128,
         17
        ],
        [
         1000217,
         10
        ],
        [
         1000156,
         17
        ],
        [
         1000219,
         10
        ],
        [
         1000065,
         16
        ],
        [
         1000248,
         13
        ],
        [
         1000222,
         8
        ],
        [
         1000020,
         13
        ],
        [
         1000126,
         9
        ],
        [
         1000212,
         11
        ],
        [
         1000253,
         15
        ],
        [
         1000096,
         3
        ],
        [
         1000199,
         11
        ],
        [
         1000009,
         9
        ],
        [
         1000112,
         20
        ],
        [
         1000014,
         13
        ],
        [
         1000213,
         19
        ],
        [
         1000294,
         10
        ],
        [
         1000238,
         9
        ],
        [
         1000211,
         9
        ],
        [
         1000197,
         8
        ],
        [
         1000299,
         5
        ],
        [
         1000291,
         14
        ],
        [
         1000029,
         22
        ],
        [
         1000284,
         10
        ],
        [
         1000094,
         15
        ],
        [
         1000074,
         16
        ],
        [
         1000136,
         12
        ],
        [
         1000129,
         8
        ],
        [
         1000169,
         12
        ],
        [
         1000193,
         14
        ],
        [
         1000072,
         10
        ],
        [
         1000004,
         17
        ],
        [
         1000111,
         9
        ],
        [
         1000008,
         10
        ],
        [
         1000209,
         12
        ],
        [
         1000252,
         10
        ],
        [
         1000162,
         13
        ],
        [
         1000157,
         11
        ],
        [
         1000053,
         14
        ],
        [
         1000264,
         11
        ],
        [
         1000282,
         15
        ],
        [
         1000100,
         11
        ],
        [
         1000144,
         8
        ],
        [
         1000098,
         12
        ],
        [
         1000110,
         7
        ],
        [
         1000087,
         4
        ],
        [
         1000108,
         15
        ],
        [
         1000150,
         9
        ],
        [
         1000066,
         16
        ],
        [
         1000011,
         6
        ],
        [
         1000236,
         10
        ],
        [
         1000231,
         12
        ],
        [
         1000235,
         5
        ],
        [
         1000032,
         12
        ],
        [
         1000099,
         14
        ],
        [
         1000224,
         12
        ],
        [
         1000155,
         13
        ],
        [
         1000237,
         10
        ],
        [
         1000016,
         13
        ],
        [
         1000227,
         12
        ],
        [
         1000242,
         11
        ],
        [
         1000204,
         6
        ]
       ],
       "datasetInfos": [],
       "dbfsResultPath": null,
       "isJsonSchema": true,
       "metadata": {},
       "overflow": false,
       "plotOptions": {
        "customPlotOptions": {},
        "displayType": "table",
        "pivotAggregation": null,
        "pivotColumns": null,
        "xColumns": null,
        "yColumns": null
       },
       "removedWidgets": [],
       "schema": [
        {
         "metadata": "{}",
         "name": "customerID",
         "type": "\"long\""
        },
        {
         "metadata": "{}",
         "name": "total_transactions",
         "type": "\"long\""
        }
       ],
       "type": "table"
      }
     },
     "output_type": "display_data"
    }
   ],
   "source": [
    "from pyspark.sql import functions as F\n",
    "from databricks.feature_store import FeatureStoreClient\n",
    "\n",
    "# Step 1: Compute the customer features\n",
    "customer_features_df = sales_transactions.groupBy('customerID').agg(\n",
    "    F.count('transactionID').alias('total_transactions')\n",
    ")\n",
    "\n",
    "# Create the database if it does not exist\n",
    "spark.sql(\"CREATE DATABASE IF NOT EXISTS recommender_system_toy\")\n",
    "\n",
    "# Step 2: Create a feature table\n",
    "fs = FeatureStoreClient()\n",
    "customer_feature_table = fs.create_table(\n",
    "    name='recommender_system_toy.customer_features',\n",
    "    primary_keys='customerID',\n",
    "    schema=customer_features_df.schema,\n",
    "    description='Customer features including total number of transactions'\n",
    ")\n",
    "\n",
    "# Step 3: Write the features to the feature table\n",
    "fs.write_table(\n",
    "    name='recommender_system_toy.customer_features',\n",
    "    df=customer_features_df,\n",
    "    mode='overwrite'\n",
    ")\n",
    "\n",
    "# Display the feature table\n",
    "display(customer_features_df)"
   ]
  },
  {
   "cell_type": "code",
   "execution_count": 0,
   "metadata": {
    "application/vnd.databricks.v1+cell": {
     "cellMetadata": {},
     "inputWidgets": {},
     "nuid": "46a2c78a-1cf9-4390-b4e5-81a90d186e3c",
     "showTitle": false,
     "tableResultSettingsMap": {},
     "title": ""
    }
   },
   "outputs": [],
   "source": []
  }
 ],
 "metadata": {
  "application/vnd.databricks.v1+notebook": {
   "computePreferences": null,
   "dashboards": [],
   "environmentMetadata": {
    "base_environment": "",
    "client": "1"
   },
   "language": "python",
   "notebookMetadata": {
    "pythonIndentUnit": 4
   },
   "notebookName": "2. Feature Engineering",
   "widgets": {}
  },
  "language_info": {
   "name": "python"
  }
 },
 "nbformat": 4,
 "nbformat_minor": 0
}